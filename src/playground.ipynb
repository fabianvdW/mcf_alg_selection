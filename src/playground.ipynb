{
 "cells": [
  {
   "cell_type": "code",
   "execution_count": 9,
   "id": "d37a761b-4965-4bec-953d-a1f230d672d9",
   "metadata": {},
   "outputs": [],
   "source": [
    "import subprocess\n",
    "import torch\n",
    "from torch_geometric.data import Dataset, Data\n",
    "import networkx as nx\n",
    "import sys\n",
    "\n",
    "def read(instance_data):\n",
    "    for line in instance_data.split(\"\\n\"):\n",
    "        if line.startswith(\"p \"):\n",
    "            _, mode, n, m = line.split()\n",
    "            assert mode == \"min\"\n",
    "            g = nx.DiGraph(mode=mode)\n",
    "            n = int(n)\n",
    "            # if \"GRIDGRAPH\" in filename:\n",
    "            #    k=0\n",
    "            # else:\n",
    "            k = 1\n",
    "            nodes = list(range(k, n + k))\n",
    "            g.add_nodes_from(nodes, demand=0)\n",
    "        elif line.startswith(\"n \"):\n",
    "            _, ID, demand = line.split()\n",
    "            g.nodes[int(ID)][\"demand\"] = int(demand)\n",
    "        elif line.startswith(\"a \"):\n",
    "            _, src, dest, low, cap, cost = line.split()\n",
    "            g.add_edge(int(src), int(dest), capacity=int(cap), weight=int(cost))\n",
    "            assert int(low) == 0\n",
    "\n",
    "    return g"
   ]
  },
  {
   "cell_type": "code",
   "execution_count": 13,
   "id": "0b61743b-21f6-4d5a-ad6c-a46c239fa780",
   "metadata": {},
   "outputs": [],
   "source": [
    "command = \"python generate_gridgraph.py 18 30 447 10000 1000 13670324914702\", \"\"\n",
    "instance_data = subprocess.run(command[0].replace(\"python\", sys.executable), capture_output=True, text=True, shell=True, input=command[1]).stdout\n",
    "G = read(instance_data)"
   ]
  },
  {
   "cell_type": "code",
   "execution_count": 27,
   "id": "28e2fbff-ab1e-4ecc-88e6-117ab5e7a606",
   "metadata": {},
   "outputs": [
    {
     "name": "stdout",
     "output_type": "stream",
     "text": [
      "The autoreload extension is already loaded. To reload it, use:\n",
      "  %reload_ext autoreload\n"
     ]
    }
   ],
   "source": [
    "%load_ext autoreload\n",
    "%autoreload 2\n",
    "import torch_loader\n",
    "loader = torch_loader.MCFDataset(\"../data/generated_data/\")"
   ]
  },
  {
   "cell_type": "code",
   "execution_count": 67,
   "id": "e2d63b25-707f-404b-ba39-b1405dfc709c",
   "metadata": {},
   "outputs": [
    {
     "data": {
      "text/plain": [
       "659"
      ]
     },
     "execution_count": 67,
     "metadata": {},
     "output_type": "execute_result"
    }
   ],
   "source": []
  },
  {
   "cell_type": "code",
   "execution_count": 71,
   "id": "2cd990e4-36ca-4da2-8828-8ff192674c06",
   "metadata": {},
   "outputs": [
    {
     "data": {
      "text/plain": [
       "125152"
      ]
     },
     "execution_count": 71,
     "metadata": {},
     "output_type": "execute_result"
    }
   ],
   "source": [
    "loader.get(0).edge_attr.shape[0]"
   ]
  },
  {
   "cell_type": "code",
   "execution_count": null,
   "id": "b719d591-be6a-4377-9d12-5e54fd9f396d",
   "metadata": {},
   "outputs": [
    {
     "name": "stdout",
     "output_type": "stream",
     "text": [
      "0 Data(edge_index=[2, 125152], label=[4], num_nodes=3911, x=[3911, 1], edge_attr=[125152, 2])\n",
      "1 Data(edge_index=[2, 2984], label=[4], num_nodes=1510, x=[1510, 1], edge_attr=[2984, 2])\n",
      "2 Data(edge_index=[2, 45359], label=[4], num_nodes=2276, x=[2276, 1], edge_attr=[45359, 2])\n",
      "3 Data(edge_index=[2, 100777], label=[4], num_nodes=2870, x=[2870, 1], edge_attr=[100777, 2])\n",
      "4 Data(edge_index=[2, 14700], label=[4], num_nodes=1225, x=[1225, 1], edge_attr=[14700, 2])\n",
      "5 Data(edge_index=[2, 101035], label=[4], num_nodes=3559, x=[3559, 1], edge_attr=[101035, 2])\n",
      "6 Data(edge_index=[2, 26388], label=[4], num_nodes=2199, x=[2199, 1], edge_attr=[26388, 2])\n",
      "7 Data(edge_index=[2, 105145], label=[4], num_nodes=3369, x=[3369, 1], edge_attr=[105145, 2])\n",
      "8 Data(edge_index=[2, 48182], label=[4], num_nodes=1267, x=[1267, 1], edge_attr=[48182, 2])\n",
      "9 Data(edge_index=[2, 163248], label=[4], num_nodes=3401, x=[3401, 1], edge_attr=[163248, 2])\n",
      "10 Data(edge_index=[2, 61875], label=[4], num_nodes=375, x=[375, 1], edge_attr=[61875, 2])\n",
      "11 Data(edge_index=[2, 9364], label=[4], num_nodes=4745, x=[4745, 1], edge_attr=[9364, 2])\n",
      "12 Data(edge_index=[2, 164965], label=[4], num_nodes=2933, x=[2933, 1], edge_attr=[164965, 2])\n"
     ]
    }
   ],
   "source": [
    "import time\n",
    "now = time.time()\n",
    "nodes = []\n",
    "edges = []\n",
    "for i in range(len(loader)):\n",
    "    graph_i = loader.get(i)\n",
    "    print(f\"{i}\", graph_i)\n",
    "    nodes.append(graph_i.num_nodes)\n",
    "    edges.append(graph_i.edge_attr.shape[0])\n",
    "\n",
    "print(time.time() - now)\n",
    "print(f\"Avg. nodes {np.mean(nodes)}\")\n",
    "print(f\"Avg. edges {np.mean(edges)}\")"
   ]
  },
  {
   "cell_type": "markdown",
   "id": "62a4eec1-112b-419f-a774-c8253de6e02d",
   "metadata": {},
   "source": [
    "|Name|Graphs|Classes|Avg. Nodes|Avg. Edges|Node Labels|Edge Labels|Node Attr.|Edge Attr.|Geometry|\n",
    "|---|---|---|---|---|---|---|---|---|---|\n",
    "|MCFSmall|659|4|0|0|-|-| +(1)| +(2)| - |\n"
   ]
  }
 ],
 "metadata": {
  "kernelspec": {
   "display_name": "Python 3 (ipykernel)",
   "language": "python",
   "name": "python3"
  },
  "language_info": {
   "codemirror_mode": {
    "name": "ipython",
    "version": 3
   },
   "file_extension": ".py",
   "mimetype": "text/x-python",
   "name": "python",
   "nbconvert_exporter": "python",
   "pygments_lexer": "ipython3",
   "version": "3.11.8"
  }
 },
 "nbformat": 4,
 "nbformat_minor": 5
}
