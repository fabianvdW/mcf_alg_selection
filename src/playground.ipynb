{
 "cells": [
  {
   "cell_type": "code",
   "execution_count": 9,
   "id": "d37a761b-4965-4bec-953d-a1f230d672d9",
   "metadata": {},
   "outputs": [],
   "source": [
    "import subprocess\n",
    "import torch\n",
    "from torch_geometric.data import Dataset, Data\n",
    "import networkx as nx\n",
    "import sys\n",
    "\n",
    "def read(instance_data):\n",
    "    for line in instance_data.split(\"\\n\"):\n",
    "        if line.startswith(\"p \"):\n",
    "            _, mode, n, m = line.split()\n",
    "            assert mode == \"min\"\n",
    "            g = nx.DiGraph(mode=mode)\n",
    "            n = int(n)\n",
    "            # if \"GRIDGRAPH\" in filename:\n",
    "            #    k=0\n",
    "            # else:\n",
    "            k = 1\n",
    "            nodes = list(range(k, n + k))\n",
    "            g.add_nodes_from(nodes, demand=0)\n",
    "        elif line.startswith(\"n \"):\n",
    "            _, ID, demand = line.split()\n",
    "            g.nodes[int(ID)][\"demand\"] = int(demand)\n",
    "        elif line.startswith(\"a \"):\n",
    "            _, src, dest, low, cap, cost = line.split()\n",
    "            g.add_edge(int(src), int(dest), capacity=int(cap), weight=int(cost))\n",
    "            assert int(low) == 0\n",
    "\n",
    "    return g"
   ]
  },
  {
   "cell_type": "code",
   "execution_count": 13,
   "id": "0b61743b-21f6-4d5a-ad6c-a46c239fa780",
   "metadata": {},
   "outputs": [],
   "source": [
    "command = \"python generate_gridgraph.py 18 30 447 10000 1000 13670324914702\", \"\"\n",
    "instance_data = subprocess.run(command[0].replace(\"python\", sys.executable), capture_output=True, text=True, shell=True, input=command[1]).stdout\n",
    "G = read(instance_data)"
   ]
  },
  {
   "cell_type": "code",
   "execution_count": 27,
   "id": "28e2fbff-ab1e-4ecc-88e6-117ab5e7a606",
   "metadata": {},
   "outputs": [
    {
     "name": "stdout",
     "output_type": "stream",
     "text": [
      "The autoreload extension is already loaded. To reload it, use:\n",
      "  %reload_ext autoreload\n"
     ]
    }
   ],
   "source": [
    "%load_ext autoreload\n",
    "%autoreload 2\n",
    "import torch_loader\n",
    "loader = torch_loader.MCFDataset(\"../data/generated_data/\")"
   ]
  },
  {
   "cell_type": "code",
   "execution_count": 67,
   "id": "e2d63b25-707f-404b-ba39-b1405dfc709c",
   "metadata": {},
   "outputs": [
    {
     "data": {
      "text/plain": [
       "659"
      ]
     },
     "execution_count": 67,
     "metadata": {},
     "output_type": "execute_result"
    }
   ],
   "source": []
  },
  {
   "cell_type": "code",
   "execution_count": 71,
   "id": "2cd990e4-36ca-4da2-8828-8ff192674c06",
   "metadata": {},
   "outputs": [
    {
     "data": {
      "text/plain": [
       "125152"
      ]
     },
     "execution_count": 71,
     "metadata": {},
     "output_type": "execute_result"
    }
   ],
   "source": [
    "loader.get(0).edge_attr.shape[0]"
   ]
  },
  {
   "cell_type": "code",
   "execution_count": null,
   "id": "b719d591-be6a-4377-9d12-5e54fd9f396d",
   "metadata": {},
   "outputs": [
    {
     "name": "stdout",
     "output_type": "stream",
     "text": [
      "0 Data(edge_index=[2, 125152], label=[4], num_nodes=3911, x=[3911, 1], edge_attr=[125152, 2])\n",
      "1 Data(edge_index=[2, 2984], label=[4], num_nodes=1510, x=[1510, 1], edge_attr=[2984, 2])\n",
      "2 Data(edge_index=[2, 45359], label=[4], num_nodes=2276, x=[2276, 1], edge_attr=[45359, 2])\n",
      "3 Data(edge_index=[2, 100777], label=[4], num_nodes=2870, x=[2870, 1], edge_attr=[100777, 2])\n",
      "4 Data(edge_index=[2, 14700], label=[4], num_nodes=1225, x=[1225, 1], edge_attr=[14700, 2])\n",
      "5 Data(edge_index=[2, 101035], label=[4], num_nodes=3559, x=[3559, 1], edge_attr=[101035, 2])\n",
      "6 Data(edge_index=[2, 26388], label=[4], num_nodes=2199, x=[2199, 1], edge_attr=[26388, 2])\n",
      "7 Data(edge_index=[2, 105145], label=[4], num_nodes=3369, x=[3369, 1], edge_attr=[105145, 2])\n",
      "8 Data(edge_index=[2, 48182], label=[4], num_nodes=1267, x=[1267, 1], edge_attr=[48182, 2])\n",
      "9 Data(edge_index=[2, 163248], label=[4], num_nodes=3401, x=[3401, 1], edge_attr=[163248, 2])\n",
      "10 Data(edge_index=[2, 61875], label=[4], num_nodes=375, x=[375, 1], edge_attr=[61875, 2])\n",
      "11 Data(edge_index=[2, 9364], label=[4], num_nodes=4745, x=[4745, 1], edge_attr=[9364, 2])\n",
      "12 Data(edge_index=[2, 164965], label=[4], num_nodes=2933, x=[2933, 1], edge_attr=[164965, 2])\n",
      "13 Data(edge_index=[2, 123101], label=[4], num_nodes=3971, x=[3971, 1], edge_attr=[123101, 2])\n",
      "14 Data(edge_index=[2, 13894], label=[4], num_nodes=1227, x=[1227, 1], edge_attr=[13894, 2])\n",
      "15 Data(edge_index=[2, 119423], label=[4], num_nodes=2058, x=[2058, 1], edge_attr=[119423, 2])\n",
      "16 Data(edge_index=[2, 100781], label=[4], num_nodes=1998, x=[1998, 1], edge_attr=[100781, 2])\n",
      "17 Data(edge_index=[2, 20815], label=[4], num_nodes=4651, x=[4651, 1], edge_attr=[20815, 2])\n",
      "18 Data(edge_index=[2, 146015], label=[4], num_nodes=2909, x=[2909, 1], edge_attr=[146015, 2])\n",
      "19 Data(edge_index=[2, 64425], label=[4], num_nodes=773, x=[773, 1], edge_attr=[64425, 2])\n",
      "20 Data(edge_index=[2, 7775], label=[4], num_nodes=426, x=[426, 1], edge_attr=[7775, 2])\n",
      "21 Data(edge_index=[2, 80928], label=[4], num_nodes=2725, x=[2725, 1], edge_attr=[80928, 2])\n",
      "22 Data(edge_index=[2, 7762], label=[4], num_nodes=3962, x=[3962, 1], edge_attr=[7762, 2])\n",
      "23 Data(edge_index=[2, 141669], label=[4], num_nodes=4293, x=[4293, 1], edge_attr=[141669, 2])\n",
      "24 Data(edge_index=[2, 173976], label=[4], num_nodes=659, x=[659, 1], edge_attr=[173976, 2])\n",
      "25 Data(edge_index=[2, 132848], label=[4], num_nodes=1444, x=[1444, 1], edge_attr=[132848, 2])\n",
      "26 Data(edge_index=[2, 80000], label=[4], num_nodes=1473, x=[1473, 1], edge_attr=[80000, 2])\n",
      "27 Data(edge_index=[2, 39366], label=[4], num_nodes=596, x=[596, 1], edge_attr=[39366, 2])\n",
      "28 Data(edge_index=[2, 120260], label=[4], num_nodes=982, x=[982, 1], edge_attr=[120260, 2])\n",
      "29 Data(edge_index=[2, 5228], label=[4], num_nodes=2669, x=[2669, 1], edge_attr=[5228, 2])\n",
      "30 Data(edge_index=[2, 122669], label=[4], num_nodes=3678, x=[3678, 1], edge_attr=[122669, 2])\n",
      "31 Data(edge_index=[2, 8213], label=[4], num_nodes=4144, x=[4144, 1], edge_attr=[8213, 2])\n",
      "32 Data(edge_index=[2, 162334], label=[4], num_nodes=3529, x=[3529, 1], edge_attr=[162334, 2])\n",
      "33 Data(edge_index=[2, 2111], label=[4], num_nodes=1058, x=[1058, 1], edge_attr=[2111, 2])\n",
      "34 Data(edge_index=[2, 5525], label=[4], num_nodes=2774, x=[2774, 1], edge_attr=[5525, 2])\n",
      "35 Data(edge_index=[2, 61171], label=[4], num_nodes=2940, x=[2940, 1], edge_attr=[61171, 2])\n",
      "36 Data(edge_index=[2, 23761], label=[4], num_nodes=441, x=[441, 1], edge_attr=[23761, 2])\n",
      "37 Data(edge_index=[2, 68094], label=[4], num_nodes=4193, x=[4193, 1], edge_attr=[68094, 2])\n",
      "38 Data(edge_index=[2, 91903], label=[4], num_nodes=691, x=[691, 1], edge_attr=[91903, 2])\n",
      "39 Data(edge_index=[2, 66090], label=[4], num_nodes=2203, x=[2203, 1], edge_attr=[66090, 2])\n",
      "40 Data(edge_index=[2, 136236], label=[4], num_nodes=1872, x=[1872, 1], edge_attr=[136236, 2])\n",
      "41 Data(edge_index=[2, 5113], label=[4], num_nodes=2219, x=[2219, 1], edge_attr=[5113, 2])\n",
      "42 Data(edge_index=[2, 9647], label=[4], num_nodes=4842, x=[4842, 1], edge_attr=[9647, 2])\n",
      "43 Data(edge_index=[2, 35026], label=[4], num_nodes=3667, x=[3667, 1], edge_attr=[35026, 2])\n",
      "44 Data(edge_index=[2, 54737], label=[4], num_nodes=1113, x=[1113, 1], edge_attr=[54737, 2])\n",
      "45 Data(edge_index=[2, 164307], label=[4], num_nodes=4239, x=[4239, 1], edge_attr=[164307, 2])\n",
      "46 Data(edge_index=[2, 1914], label=[4], num_nodes=970, x=[970, 1], edge_attr=[1914, 2])\n",
      "47 Data(edge_index=[2, 8652], label=[4], num_nodes=4333, x=[4333, 1], edge_attr=[8652, 2])\n",
      "48 Data(edge_index=[2, 135785], label=[4], num_nodes=2616, x=[2616, 1], edge_attr=[135785, 2])\n",
      "49 Data(edge_index=[2, 26033], label=[4], num_nodes=1137, x=[1137, 1], edge_attr=[26033, 2])\n",
      "50 Data(edge_index=[2, 33552], label=[4], num_nodes=4522, x=[4522, 1], edge_attr=[33552, 2])\n",
      "51 Data(edge_index=[2, 172728], label=[4], num_nodes=4798, x=[4798, 1], edge_attr=[172728, 2])\n",
      "52 Data(edge_index=[2, 34029], label=[4], num_nodes=4576, x=[4576, 1], edge_attr=[34029, 2])\n",
      "53 Data(edge_index=[2, 38139], label=[4], num_nodes=450, x=[450, 1], edge_attr=[38139, 2])\n",
      "54 Data(edge_index=[2, 17659], label=[4], num_nodes=4213, x=[4213, 1], edge_attr=[17659, 2])\n",
      "55 Data(edge_index=[2, 8600], label=[4], num_nodes=4309, x=[4309, 1], edge_attr=[8600, 2])\n",
      "56 Data(edge_index=[2, 7323], label=[4], num_nodes=3674, x=[3674, 1], edge_attr=[7323, 2])\n",
      "57 Data(edge_index=[2, 4646], label=[4], num_nodes=2351, x=[2351, 1], edge_attr=[4646, 2])\n",
      "58 Data(edge_index=[2, 91357], label=[4], num_nodes=3343, x=[3343, 1], edge_attr=[91357, 2])\n",
      "59 Data(edge_index=[2, 160242], label=[4], num_nodes=4713, x=[4713, 1], edge_attr=[160242, 2])\n",
      "60 Data(edge_index=[2, 33007], label=[4], num_nodes=2539, x=[2539, 1], edge_attr=[33007, 2])\n",
      "61 Data(edge_index=[2, 4732], label=[4], num_nodes=193, x=[193, 1], edge_attr=[4732, 2])\n",
      "62 Data(edge_index=[2, 195650], label=[4], num_nodes=559, x=[559, 1], edge_attr=[195650, 2])\n",
      "63 Data(edge_index=[2, 135894], label=[4], num_nodes=4118, x=[4118, 1], edge_attr=[135894, 2])\n",
      "64 Data(edge_index=[2, 148487], label=[4], num_nodes=4152, x=[4152, 1], edge_attr=[148487, 2])\n",
      "65 Data(edge_index=[2, 32547], label=[4], num_nodes=2889, x=[2889, 1], edge_attr=[32547, 2])\n",
      "66 Data(edge_index=[2, 189362], label=[4], num_nodes=1297, x=[1297, 1], edge_attr=[189362, 2])\n",
      "67 Data(edge_index=[2, 101343], label=[4], num_nodes=1543, x=[1543, 1], edge_attr=[101343, 2])\n",
      "68 Data(edge_index=[2, 3959], label=[4], num_nodes=1982, x=[1982, 1], edge_attr=[3959, 2])\n",
      "69 Data(edge_index=[2, 7337], label=[4], num_nodes=3702, x=[3702, 1], edge_attr=[7337, 2])\n",
      "70 Data(edge_index=[2, 31256], label=[4], num_nodes=3907, x=[3907, 1], edge_attr=[31256, 2])\n",
      "71 Data(edge_index=[2, 135523], label=[4], num_nodes=2297, x=[2297, 1], edge_attr=[135523, 2])\n",
      "72 Data(edge_index=[2, 45710], label=[4], num_nodes=3265, x=[3265, 1], edge_attr=[45710, 2])\n",
      "73 Data(edge_index=[2, 125293], label=[4], num_nodes=3951, x=[3951, 1], edge_attr=[125293, 2])\n",
      "74 Data(edge_index=[2, 97929], label=[4], num_nodes=3627, x=[3627, 1], edge_attr=[97929, 2])\n",
      "75 Data(edge_index=[2, 150535], label=[4], num_nodes=3438, x=[3438, 1], edge_attr=[150535, 2])\n",
      "76 Data(edge_index=[2, 53970], label=[4], num_nodes=3855, x=[3855, 1], edge_attr=[53970, 2])\n",
      "77 Data(edge_index=[2, 38997], label=[4], num_nodes=1857, x=[1857, 1], edge_attr=[38997, 2])\n",
      "78 Data(edge_index=[2, 9410], label=[4], num_nodes=4714, x=[4714, 1], edge_attr=[9410, 2])\n",
      "79 Data(edge_index=[2, 88777], label=[4], num_nodes=2682, x=[2682, 1], edge_attr=[88777, 2])\n",
      "80 Data(edge_index=[2, 149554], label=[4], num_nodes=2276, x=[2276, 1], edge_attr=[149554, 2])\n",
      "81 Data(edge_index=[2, 73548], label=[4], num_nodes=4044, x=[4044, 1], edge_attr=[73548, 2])\n",
      "82 Data(edge_index=[2, 4780], label=[4], num_nodes=2402, x=[2402, 1], edge_attr=[4780, 2])\n",
      "83 Data(edge_index=[2, 30275], label=[4], num_nodes=4325, x=[4325, 1], edge_attr=[30275, 2])\n",
      "84 Data(edge_index=[2, 181842], label=[4], num_nodes=4664, x=[4664, 1], edge_attr=[181842, 2])\n",
      "85 Data(edge_index=[2, 37490], label=[4], num_nodes=4944, x=[4944, 1], edge_attr=[37490, 2])\n",
      "86 Data(edge_index=[2, 7936], label=[4], num_nodes=4022, x=[4022, 1], edge_attr=[7936, 2])\n",
      "87 Data(edge_index=[2, 172550], label=[4], num_nodes=4930, x=[4930, 1], edge_attr=[172550, 2])\n",
      "88 Data(edge_index=[2, 199049], label=[4], num_nodes=4449, x=[4449, 1], edge_attr=[199049, 2])\n",
      "89 Data(edge_index=[2, 87714], label=[4], num_nodes=4873, x=[4873, 1], edge_attr=[87714, 2])\n",
      "90 Data(edge_index=[2, 9608], label=[4], num_nodes=4866, x=[4866, 1], edge_attr=[9608, 2])\n",
      "91 Data(edge_index=[2, 127925], label=[4], num_nodes=2787, x=[2787, 1], edge_attr=[127925, 2])\n",
      "92 Data(edge_index=[2, 130861], label=[4], num_nodes=4881, x=[4881, 1], edge_attr=[130861, 2])\n",
      "93 Data(edge_index=[2, 103152], label=[4], num_nodes=2115, x=[2115, 1], edge_attr=[103152, 2])\n",
      "94 Data(edge_index=[2, 43707], label=[4], num_nodes=2470, x=[2470, 1], edge_attr=[43707, 2])\n",
      "95 Data(edge_index=[2, 147909], label=[4], num_nodes=3147, x=[3147, 1], edge_attr=[147909, 2])\n",
      "96 Data(edge_index=[2, 163003], label=[4], num_nodes=2121, x=[2121, 1], edge_attr=[163003, 2])\n",
      "97 Data(edge_index=[2, 79355], label=[4], num_nodes=3311, x=[3311, 1], edge_attr=[79355, 2])\n",
      "98 Data(edge_index=[2, 2723], label=[4], num_nodes=1396, x=[1396, 1], edge_attr=[2723, 2])\n",
      "99 Data(edge_index=[2, 101591], label=[4], num_nodes=4417, x=[4417, 1], edge_attr=[101591, 2])\n",
      "100 Data(edge_index=[2, 3675], label=[4], num_nodes=105, x=[105, 1], edge_attr=[3675, 2])\n",
      "101 Data(edge_index=[2, 71564], label=[4], num_nodes=3397, x=[3397, 1], edge_attr=[71564, 2])\n",
      "102 Data(edge_index=[2, 135977], label=[4], num_nodes=1528, x=[1528, 1], edge_attr=[135977, 2])\n",
      "103 Data(edge_index=[2, 105896], label=[4], num_nodes=1891, x=[1891, 1], edge_attr=[105896, 2])\n",
      "104 Data(edge_index=[2, 103832], label=[4], num_nodes=3120, x=[3120, 1], edge_attr=[103832, 2])\n",
      "105 Data(edge_index=[2, 126853], label=[4], num_nodes=2699, x=[2699, 1], edge_attr=[126853, 2])\n",
      "106 Data(edge_index=[2, 6159], label=[4], num_nodes=3082, x=[3082, 1], edge_attr=[6159, 2])\n",
      "107 Data(edge_index=[2, 140400], label=[4], num_nodes=1170, x=[1170, 1], edge_attr=[140400, 2])\n",
      "108 Data(edge_index=[2, 101380], label=[4], num_nodes=1719, x=[1719, 1], edge_attr=[101380, 2])\n",
      "109 Data(edge_index=[2, 102746], label=[4], num_nodes=3763, x=[3763, 1], edge_attr=[102746, 2])\n",
      "110 Data(edge_index=[2, 9518], label=[4], num_nodes=4762, x=[4762, 1], edge_attr=[9518, 2])\n",
      "111 Data(edge_index=[2, 177002], label=[4], num_nodes=2596, x=[2596, 1], edge_attr=[177002, 2])\n",
      "112 Data(edge_index=[2, 150258], label=[4], num_nodes=951, x=[951, 1], edge_attr=[150258, 2])\n",
      "113 Data(edge_index=[2, 123452], label=[4], num_nodes=4409, x=[4409, 1], edge_attr=[123452, 2])\n",
      "114 Data(edge_index=[2, 121652], label=[4], num_nodes=4404, x=[4404, 1], edge_attr=[121652, 2])\n",
      "115 Data(edge_index=[2, 167031], label=[4], num_nodes=2493, x=[2493, 1], edge_attr=[167031, 2])\n"
     ]
    }
   ],
   "source": [
    "import time\n",
    "now = time.time()\n",
    "nodes = []\n",
    "edges = []\n",
    "for i in range(len(loader)):\n",
    "    graph_i = loader.get(i)\n",
    "    print(f\"{i}\", graph_i)\n",
    "    nodes.append(graph_i.num_nodes)\n",
    "    edges.append(graph_i.edge_attr.shape[0])\n",
    "\n",
    "print(time.time() - now)\n",
    "print(f\"Avg. nodes {np.mean(nodes)}\")\n",
    "print(f\"Avg. edges {np.mean(edges)}\")"
   ]
  },
  {
   "cell_type": "markdown",
   "id": "62a4eec1-112b-419f-a774-c8253de6e02d",
   "metadata": {},
   "source": [
    "|Name|Graphs|Classes|Avg. Nodes|Avg. Edges|Node Labels|Edge Labels|Node Attr.|Edge Attr.|Geometry|\n",
    "|---|---|---|---|---|---|---|---|---|---|\n",
    "|MCFSmall|659|4|0|0|-|-| +(1)| +(2)| - |\n"
   ]
  }
 ],
 "metadata": {
  "kernelspec": {
   "display_name": "Python 3 (ipykernel)",
   "language": "python",
   "name": "python3"
  },
  "language_info": {
   "codemirror_mode": {
    "name": "ipython",
    "version": 3
   },
   "file_extension": ".py",
   "mimetype": "text/x-python",
   "name": "python",
   "nbconvert_exporter": "python",
   "pygments_lexer": "ipython3",
   "version": "3.11.8"
  }
 },
 "nbformat": 4,
 "nbformat_minor": 5
}
